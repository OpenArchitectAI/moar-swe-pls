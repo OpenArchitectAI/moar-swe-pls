{
 "cells": [
  {
   "cell_type": "markdown",
   "metadata": {},
   "source": [
    "# Code Review Generator Lab"
   ]
  },
  {
   "cell_type": "code",
   "execution_count": 3,
   "metadata": {},
   "outputs": [],
   "source": [
    "%load_ext autoreload\n",
    "%autoreload 2\n",
    "\n",
    "import json\n",
    "import dspy\n",
    "\n",
    "dspy.configure(lm=dspy.OpenAI(model=\"gpt-4-0125-preview\", max_tokens=4096))\n"
   ]
  },
  {
   "cell_type": "markdown",
   "metadata": {},
   "source": [
    "### DSpy Module"
   ]
  },
  {
   "cell_type": "code",
   "execution_count": null,
   "metadata": {},
   "outputs": [],
   "source": [
    "from reviewer import ReviewerAgent, Codebase, Ticket, PR"
   ]
  },
  {
   "cell_type": "markdown",
   "metadata": {},
   "source": [
    "### Get inputs"
   ]
  },
  {
   "cell_type": "code",
   "execution_count": null,
   "metadata": {},
   "outputs": [],
   "source": [
    "CODEBASE_NAME = \"open-architect\"\n",
    "TICKET_NAME = \"model-config\"\n",
    "PR_NAME = \"pr-1\"\n",
    "\n",
    "with open(f\"../../data/codebases/{CODEBASE_NAME}.json\", \"r\") as f:\n",
    "    codebase = json.load(f)\n",
    "codebase = Codebase(**codebase)\n",
    "\n",
    "with open(f\"../../data/tickets/{CODEBASE_NAME}/{TICKET_NAME}.json\", \"r\") as f:\n",
    "    ticket = json.load(f)\n",
    "ticket = Ticket(**ticket)\n",
    "\n",
    "with open(f\"../../data/prs/{CODEBASE_NAME}/{TICKET_NAME}/{PR_NAME}.json\", \"r\") as f:\n",
    "    pr = json.load(f)\n",
    "pr = PR(**pr)"
   ]
  },
  {
   "cell_type": "markdown",
   "metadata": {},
   "source": [
    "### Forward"
   ]
  },
  {
   "cell_type": "code",
   "execution_count": null,
   "metadata": {},
   "outputs": [],
   "source": [
    "reviewer_agent = ReviewerAgent()"
   ]
  },
  {
   "cell_type": "code",
   "execution_count": null,
   "metadata": {},
   "outputs": [],
   "source": [
    "code_review = reviewer_agent(codebase=codebase, ticket=ticket, pr=pr)"
   ]
  },
  {
   "cell_type": "markdown",
   "metadata": {},
   "source": [
    "### Save outputs"
   ]
  },
  {
   "cell_type": "code",
   "execution_count": null,
   "metadata": {},
   "outputs": [],
   "source": []
  }
 ],
 "metadata": {
  "kernelspec": {
   "display_name": "oa",
   "language": "python",
   "name": "python3"
  },
  "language_info": {
   "codemirror_mode": {
    "name": "ipython",
    "version": 3
   },
   "file_extension": ".py",
   "mimetype": "text/x-python",
   "name": "python",
   "nbconvert_exporter": "python",
   "pygments_lexer": "ipython3",
   "version": "3.12.2"
  }
 },
 "nbformat": 4,
 "nbformat_minor": 2
}
